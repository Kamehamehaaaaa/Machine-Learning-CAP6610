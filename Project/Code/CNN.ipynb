{
 "cells": [
  {
   "cell_type": "code",
   "execution_count": 1,
   "id": "9dc0b619-81e9-470d-970a-5b162d435af5",
   "metadata": {},
   "outputs": [
    {
     "name": "stdout",
     "output_type": "stream",
     "text": [
      "Total classes: 206\n"
     ]
    }
   ],
   "source": [
    "import torch\n",
    "import torch.nn as nn\n",
    "import torch.nn.functional as F\n",
    "import import_ipynb\n",
    "# from data_processing import BirdClefDataset\n",
    "# from data_processing import get_training_data\n",
    "import data_processing\n",
    "import numpy as np\n",
    "from torch import optim\n",
    "from tqdm import tqdm\n",
    "from torch.utils.data import Dataset, DataLoader\n",
    "from sklearn.metrics import roc_auc_score\n",
    "import csv\n",
    "\n",
    "device = torch.device(\"cuda\" if torch.cuda.is_available() else \"cpu\")\n"
   ]
  },
  {
   "cell_type": "code",
   "execution_count": 2,
   "id": "5f291736-7126-4f2c-8c1d-7a0cbffd1d56",
   "metadata": {},
   "outputs": [],
   "source": [
    "class BirdClefModel(nn.Module):\n",
    "    def __init__(self, labels, bins, frames):\n",
    "        super(BirdClefModel, self).__init__()\n",
    "        self.labels = labels\n",
    "        self.bins = bins\n",
    "        self.frames = frames\n",
    "\n",
    "        self.modelSetup()\n",
    "\n",
    "    def modelSetup(self):\n",
    "        self.conv1 = nn.Conv2d(1, 16, kernel_size=3, stride=1, padding=1)\n",
    "        self.bn1 = nn.BatchNorm2d(16)\n",
    "        self.conv2 = nn.Conv2d(16, 32, kernel_size=3, stride=1, padding=1)\n",
    "        self.bn2 = nn.BatchNorm2d(32)\n",
    "        self.conv3 = nn.Conv2d(32, 64, kernel_size=3, stride=1, padding=1)\n",
    "        self.bn3 = nn.BatchNorm2d(64)\n",
    "\n",
    "        self.pool = nn.MaxPool2d(2,2)\n",
    "        self.dropout = nn.Dropout(0.2)\n",
    "\n",
    "        self.fc1 = nn.Linear(64 * (self.bins//8) * (self.frames//8), 128)\n",
    "        self.fc2 = nn.Linear(128, self.labels)\n",
    "\n",
    "    def forward(self, x):\n",
    "        x = self.pool(F.relu(self.bn1(self.conv1(x))))\n",
    "        x = self.pool(F.relu(self.bn2(self.conv2(x))))\n",
    "        x = self.pool(F.relu(self.bn3(self.conv3(x))))\n",
    "\n",
    "        x = x.view(x.size(0), -1)\n",
    "        x = self.dropout(F.relu(self.fc1(x)))\n",
    "        x = self.fc2(x)\n",
    "        return x\n",
    "        \n",
    "        \n",
    "        "
   ]
  },
  {
   "cell_type": "code",
   "execution_count": 3,
   "id": "848500c6-7ea7-4f8b-8055-98b4e27ff68f",
   "metadata": {},
   "outputs": [],
   "source": [
    "def create_batch(melspecs):\n",
    "    # melspecs shape: [1, n_mels, time_frames]\n",
    "    # return shape: [batch, 1, n_mels, time_frames]\n",
    "\n",
    "    batch = np.stack(melspecs)\n",
    "    batch = torch.from_numpy(batch).to(device)\n",
    "\n",
    "    return batch"
   ]
  },
  {
   "cell_type": "code",
   "execution_count": 4,
   "id": "c4093a99-5dcc-4799-9895-4199b5509173",
   "metadata": {},
   "outputs": [],
   "source": [
    "train_loader, val_loader = data_processing.get_training_data('melspec', \n",
    "                                                 '/Users/rohitbogulla/Desktop/Sem 2/ML/Project/BirdClef/birdclef-2025/train.csv')"
   ]
  },
  {
   "cell_type": "code",
   "execution_count": 5,
   "id": "0de620e7-021b-4421-b53e-4fe830a6fb01",
   "metadata": {},
   "outputs": [],
   "source": [
    "model = BirdClefModel(206, bins=128, frames=309).to(device)\n",
    "optimizer = optim.Adam(model.parameters(), lr=1e-4)\n",
    "loss_fn = nn.BCEWithLogitsLoss()"
   ]
  },
  {
   "cell_type": "code",
   "execution_count": 6,
   "id": "524d7cbd-41e2-4858-a3f7-21bac4531f27",
   "metadata": {},
   "outputs": [],
   "source": [
    "def train_one_epoch(model, train_loader, optimizer, loss_fn, device, epoch):\n",
    "    model.train()\n",
    "    running_loss = 0.0\n",
    "    for x, y in tqdm(train_loader, desc=f\"[Epoch {epoch}] Train\", leave=False):\n",
    "        x, y = x.to(device), y.to(device)\n",
    "        optimizer.zero_grad()\n",
    "        # print(x.shape)\n",
    "        logits = model(x)\n",
    "        loss = loss_fn(logits, y)\n",
    "        loss.backward()\n",
    "        optimizer.step()\n",
    "        running_loss += loss.item()\n",
    "    return running_loss / len(train_loader)"
   ]
  },
  {
   "cell_type": "code",
   "execution_count": 9,
   "id": "91aba065-7477-49cb-950a-967712910774",
   "metadata": {},
   "outputs": [],
   "source": [
    "def safe_macro_auc(y_true, y_pred):\n",
    "    \"\"\"Compute macro-averaged ROC AUC, skipping invalid classes.\"\"\"\n",
    "    scores = []\n",
    "    for i in range(y_true.shape[1]):\n",
    "        y_col = y_true[:, i]\n",
    "        p_col = y_pred[:, i]\n",
    "        if (y_col == 1).sum() > 0 and (y_col == 0).sum() > 0:\n",
    "            try:\n",
    "                score = roc_auc_score(y_col, p_col)\n",
    "                scores.append(score)\n",
    "            except:\n",
    "                continue\n",
    "    return np.mean(scores) if scores else float(\"nan\")\n",
    "\n",
    "def validate_one_epoch(model, dataloader, loss_fn, device, epoch):\n",
    "    model.eval()\n",
    "    running_loss = 0.0\n",
    "    all_targets = []\n",
    "    all_preds = []\n",
    "    with torch.no_grad():\n",
    "        for x, y in tqdm(dataloader, desc=f\"[Epoch {epoch}] Val\", leave=False):\n",
    "            x, y = x.to(device), y.to(device)\n",
    "            logits = model(x)\n",
    "            loss = loss_fn(logits, y)\n",
    "            probs = torch.sigmoid(logits)\n",
    "            all_preds.append(probs.cpu().numpy())\n",
    "            all_targets.append(y.cpu().numpy())\n",
    "            running_loss += loss.item()\n",
    "    y_true = np.vstack(all_targets)\n",
    "    y_pred = np.vstack(all_preds)\n",
    "    val_auc = safe_macro_auc(y_true, y_pred)\n",
    "    return running_loss / len(dataloader), val_auc"
   ]
  },
  {
   "cell_type": "code",
   "execution_count": 11,
   "id": "90a77284-bbb9-45b7-82ba-bfc3d48c54cd",
   "metadata": {},
   "outputs": [
    {
     "name": "stderr",
     "output_type": "stream",
     "text": [
      "                                                                                \r"
     ]
    },
    {
     "name": "stdout",
     "output_type": "stream",
     "text": [
      "[Epoch 1] Train Loss: 0.0271 | Val Loss: 0.0248 | Val ROC AUC: 0.72606\n",
      "✅ New best AUC: 0.72606 — saved as cnn_model_1_auc0.72606.pth\n"
     ]
    },
    {
     "name": "stderr",
     "output_type": "stream",
     "text": [
      "                                                                                \r"
     ]
    },
    {
     "name": "stdout",
     "output_type": "stream",
     "text": [
      "[Epoch 2] Train Loss: 0.0258 | Val Loss: 0.0236 | Val ROC AUC: 0.79394\n",
      "✅ New best AUC: 0.79394 — saved as cnn_model_2_auc0.79394.pth\n"
     ]
    },
    {
     "name": "stderr",
     "output_type": "stream",
     "text": [
      "                                                                                \r"
     ]
    },
    {
     "name": "stdout",
     "output_type": "stream",
     "text": [
      "[Epoch 3] Train Loss: 0.0246 | Val Loss: 0.0229 | Val ROC AUC: 0.81257\n",
      "✅ New best AUC: 0.81257 — saved as cnn_model_3_auc0.81257.pth\n"
     ]
    },
    {
     "name": "stderr",
     "output_type": "stream",
     "text": [
      "                                                                                \r"
     ]
    },
    {
     "name": "stdout",
     "output_type": "stream",
     "text": [
      "[Epoch 4] Train Loss: 0.0240 | Val Loss: 0.0225 | Val ROC AUC: 0.83450\n",
      "✅ New best AUC: 0.83450 — saved as cnn_model_4_auc0.83450.pth\n"
     ]
    },
    {
     "name": "stderr",
     "output_type": "stream",
     "text": [
      "                                                                                \r"
     ]
    },
    {
     "name": "stdout",
     "output_type": "stream",
     "text": [
      "[Epoch 5] Train Loss: 0.0235 | Val Loss: 0.0221 | Val ROC AUC: 0.84153\n",
      "✅ New best AUC: 0.84153 — saved as cnn_model_5_auc0.84153.pth\n"
     ]
    }
   ],
   "source": [
    "NUM_EPOCHS = 5\n",
    "best_auc = -1.0\n",
    "LOG_PATH = '/Users/rohitbogulla/Desktop/Sem 2/ML/Project/BirdClef/birdclef-2025/train_LOGFILE.csv'\n",
    "\n",
    "for epoch in range(1, NUM_EPOCHS + 1):\n",
    "    train_loss = train_one_epoch(model, train_loader, optimizer, loss_fn, device, epoch)\n",
    "    val_loss, val_auc = validate_one_epoch(model, val_loader, loss_fn, device, epoch)\n",
    "\n",
    "    print(f\"[Epoch {epoch}] Train Loss: {train_loss:.4f} | Val Loss: {val_loss:.4f} | Val ROC AUC: {val_auc:.5f}\")\n",
    "\n",
    "    # Сохраняем в лог-файл\n",
    "    with open(LOG_PATH, \"a\", newline=\"\") as f:\n",
    "        writer = csv.writer(f)\n",
    "        writer.writerow([epoch, train_loss, val_loss, val_auc])\n",
    "\n",
    "    # Сохраняем модель, если улучшилась\n",
    "    if val_auc > best_auc:\n",
    "        best_auc = val_auc\n",
    "        model_filename = f\"cnn_model_{epoch}_auc{val_auc:.5f}.pth\"\n",
    "        torch.save(model.state_dict(), f\"{model_filename}\")\n",
    "        print(f\"✅ New best AUC: {best_auc:.5f} — saved as {model_filename}\")"
   ]
  },
  {
   "cell_type": "code",
   "execution_count": null,
   "id": "0a0bec9d-396b-4d0f-a3da-918475c2ccfa",
   "metadata": {},
   "outputs": [],
   "source": []
  }
 ],
 "metadata": {
  "kernelspec": {
   "display_name": "Python 3 (ipykernel)",
   "language": "python",
   "name": "python3"
  },
  "language_info": {
   "codemirror_mode": {
    "name": "ipython",
    "version": 3
   },
   "file_extension": ".py",
   "mimetype": "text/x-python",
   "name": "python",
   "nbconvert_exporter": "python",
   "pygments_lexer": "ipython3",
   "version": "3.12.5"
  }
 },
 "nbformat": 4,
 "nbformat_minor": 5
}
