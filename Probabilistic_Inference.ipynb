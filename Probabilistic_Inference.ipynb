{
 "cells": [
  {
   "cell_type": "code",
   "execution_count": 1,
   "id": "a0065355-f3c6-4015-8361-12d29a9e7d68",
   "metadata": {},
   "outputs": [
    {
     "name": "stdout",
     "output_type": "stream",
     "text": [
      "Total classes: 206\n"
     ]
    }
   ],
   "source": [
    "import numpy as np\n",
    "import os\n",
    "from tqdm import tqdm\n",
    "import tensorflow as tf\n",
    "import import_ipynb\n",
    "import data_processing\n",
    "\n",
    "from sklearn.decomposition import PCA\n",
    "from sklearn.model_selection import train_test_split\n",
    "from sklearn.naive_bayes import GaussianNB\n",
    "from sklearn.metrics import classification_report, accuracy_score"
   ]
  },
  {
   "cell_type": "code",
   "execution_count": 2,
   "id": "6c117cd8-e577-45ca-b4c6-b41034648a10",
   "metadata": {},
   "outputs": [
    {
     "ename": "NameError",
     "evalue": "name 'get_training_data' is not defined",
     "output_type": "error",
     "traceback": [
      "\u001b[0;31m---------------------------------------------------------------------------\u001b[0m",
      "\u001b[0;31mNameError\u001b[0m                                 Traceback (most recent call last)",
      "Cell \u001b[0;32mIn[2], line 1\u001b[0m\n\u001b[0;32m----> 1\u001b[0m X_train, y_train \u001b[38;5;241m=\u001b[39m \u001b[43mget_training_data\u001b[49m(\u001b[38;5;124m'\u001b[39m\u001b[38;5;124membedding\u001b[39m\u001b[38;5;124m'\u001b[39m)\n",
      "\u001b[0;31mNameError\u001b[0m: name 'get_training_data' is not defined"
     ]
    }
   ],
   "source": [
    "X_train, y_train = get_training_data('embedding')"
   ]
  },
  {
   "cell_type": "code",
   "execution_count": 32,
   "id": "4f8a6b02-25c5-4d4a-959b-20485a4f37c8",
   "metadata": {},
   "outputs": [],
   "source": [
    "original_X_train = X_train\n",
    "original_y_train = y_train"
   ]
  },
  {
   "cell_type": "code",
   "execution_count": 2,
   "id": "e5f14fa9-3cd5-4d56-b8ce-79972875e50f",
   "metadata": {},
   "outputs": [
    {
     "name": "stderr",
     "output_type": "stream",
     "text": [
      "100%|█████████████████████████████████████████| 207/207 [08:54<00:00,  2.58s/it]\n"
     ]
    }
   ],
   "source": [
    "x, y = data_processing.get_training_data('melspec2','/Users/rohitbogulla/Desktop/Sem 2/ML/Project/BirdClef/birdclef-2025/train_audio')"
   ]
  },
  {
   "cell_type": "code",
   "execution_count": 3,
   "id": "73f50d8b-07b4-4f1b-8320-c8911c1a3074",
   "metadata": {},
   "outputs": [],
   "source": [
    "X_train = []\n",
    "for i in x:\n",
    "    X_train.append(i.flatten())"
   ]
  },
  {
   "cell_type": "code",
   "execution_count": 17,
   "id": "45ce3a19-2b9e-4ceb-b7f3-61cffb268c9b",
   "metadata": {},
   "outputs": [],
   "source": [
    "X_tr, X_test, y_tr, y_test = train_test_split(x, y, test_size=0.2, random_state=20)"
   ]
  },
  {
   "cell_type": "code",
   "execution_count": 18,
   "id": "15ad47e9-419a-45fa-b194-17702122f62e",
   "metadata": {},
   "outputs": [],
   "source": [
    "pca = PCA(n_components=10)\n",
    "pca.fit(X_tr)\n",
    "\n",
    "X_tr = pca.transform(X_tr)\n",
    "X_test = pca.transform(X_test)"
   ]
  },
  {
   "cell_type": "code",
   "execution_count": 19,
   "id": "6c9ab8c5-b2e2-478d-bbda-aea6676566de",
   "metadata": {},
   "outputs": [
    {
     "name": "stdout",
     "output_type": "stream",
     "text": [
      "0.05653772098722212\n"
     ]
    }
   ],
   "source": [
    "clf = GaussianNB()\n",
    "clf.fit(X_tr, y_tr)\n",
    "\n",
    "y_pred = clf.predict(X_test)\n",
    "print(accuracy_score(y_pred, y_test))"
   ]
  },
  {
   "cell_type": "code",
   "execution_count": 20,
   "id": "e64b1f37-fe98-476a-b111-a0206f7eee47",
   "metadata": {},
   "outputs": [
    {
     "data": {
      "text/plain": [
       "40064"
      ]
     },
     "execution_count": 20,
     "metadata": {},
     "output_type": "execute_result"
    }
   ],
   "source": [
    "len(x[0])"
   ]
  },
  {
   "cell_type": "code",
   "execution_count": 21,
   "id": "122592c3-a40a-4051-ac49-a4cdd038646b",
   "metadata": {},
   "outputs": [
    {
     "data": {
      "text/plain": [
       "10"
      ]
     },
     "execution_count": 21,
     "metadata": {},
     "output_type": "execute_result"
    }
   ],
   "source": [
    "len(X_tr[0])"
   ]
  },
  {
   "cell_type": "code",
   "execution_count": 9,
   "id": "0d1e22b0-2082-4501-b125-fa3b2389dc18",
   "metadata": {},
   "outputs": [
    {
     "data": {
      "text/plain": [
       "array(['strcuc1', 'grekis', 'banana', ..., 'grekis', 'grekis', 'grekis'],\n",
       "      dtype='<U7')"
      ]
     },
     "execution_count": 9,
     "metadata": {},
     "output_type": "execute_result"
    }
   ],
   "source": [
    "y_pred"
   ]
  },
  {
   "cell_type": "code",
   "execution_count": null,
   "id": "5436a82c-236e-429f-ba36-05f4fe05bb2d",
   "metadata": {},
   "outputs": [],
   "source": []
  }
 ],
 "metadata": {
  "kernelspec": {
   "display_name": "Python 3 (ipykernel)",
   "language": "python",
   "name": "python3"
  },
  "language_info": {
   "codemirror_mode": {
    "name": "ipython",
    "version": 3
   },
   "file_extension": ".py",
   "mimetype": "text/x-python",
   "name": "python",
   "nbconvert_exporter": "python",
   "pygments_lexer": "ipython3",
   "version": "3.12.5"
  }
 },
 "nbformat": 4,
 "nbformat_minor": 5
}
