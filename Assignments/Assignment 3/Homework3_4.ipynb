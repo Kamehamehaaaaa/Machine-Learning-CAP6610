{
 "cells": [
  {
   "cell_type": "markdown",
   "id": "a131d8a2-bbe2-4ed7-8354-6573a5a2f249",
   "metadata": {},
   "source": [
    "### 4"
   ]
  },
  {
   "cell_type": "code",
   "execution_count": 3,
   "id": "7f68ff00-45d1-4714-8530-c5e65570f9d9",
   "metadata": {},
   "outputs": [],
   "source": [
    "import cvxpy as cp\n",
    "from sklearn.linear_model import LinearRegression\n",
    "from sklearn.preprocessing import StandardScaler\n",
    "import pandas as pd\n",
    "import numpy as np"
   ]
  },
  {
   "cell_type": "code",
   "execution_count": 4,
   "id": "4c3457ac-519a-4c43-88e3-5406ab833f4e",
   "metadata": {},
   "outputs": [],
   "source": [
    "def mean_absolute_error(y_true, y_pred):\n",
    "    mae = 0\n",
    "    for i in range(len(y_true)):\n",
    "        mae += abs(y_true[i] - y_pred[i])\n",
    "    return mae/len(y_true)"
   ]
  },
  {
   "cell_type": "code",
   "execution_count": 5,
   "id": "b43078cb-caa0-4894-94e3-b90cfcc46aa0",
   "metadata": {},
   "outputs": [],
   "source": [
    "df = pd.read_csv(\"wine+quality/winequality-red.csv\", sep=';')\n",
    "X = df.iloc[:, :-1].values\n",
    "y = df.iloc[:, -1].values\n",
    "X_train, y_train = X[:1400], y[:1400]\n",
    "X_test, y_test = X[1400:], y[1400:]\n",
    "\n",
    "# Standardize the features (x-mean(x))/std(x)\n",
    "scaler = StandardScaler()\n",
    "# Use X_train to get the mean and standard deviation\n",
    "X_train_std = scaler.fit_transform(X_train)\n",
    "# Use the mean and standard deviation from X_train to standardize X_test\n",
    "# as having X_train and X_test with same standardization terms makes sense.\n",
    "X_test_std = scaler.transform(X_test)\n",
    "\n",
    "def addBiasToSamples(data):\n",
    "    return np.hstack([data, np.ones((data.shape[0], 1))])\n",
    "    \n",
    "X_train_std = addBiasToSamples(X_train_std)\n",
    "X_test_std = addBiasToSamples(X_test_std)"
   ]
  },
  {
   "cell_type": "code",
   "execution_count": 8,
   "id": "458deba7-16b0-4758-b39b-450cb8dedc16",
   "metadata": {},
   "outputs": [
    {
     "name": "stdout",
     "output_type": "stream",
     "text": [
      "0.5329671066366284\n"
     ]
    }
   ],
   "source": [
    "# Model 1 using least square loss\n",
    "model1 = LinearRegression().fit(X_train_std, y_train)\n",
    "y_pred1 = model1.predict(X_test_std)\n",
    "print(mean_absolute_error(y_test, y_pred1))"
   ]
  },
  {
   "cell_type": "code",
   "execution_count": 9,
   "id": "f71b5798-47c3-4cab-a6bd-27900ae94167",
   "metadata": {},
   "outputs": [
    {
     "name": "stdout",
     "output_type": "stream",
     "text": [
      "0.5304108520987253\n"
     ]
    }
   ],
   "source": [
    "# Model 2 using Huber loss\n",
    "w = cp.Variable(X_train.shape[1])\n",
    "b = cp.Variable()\n",
    "r = X_train @ w + b - y_train\n",
    "\n",
    "obj_fn = cp.sum(cp.huber(r, M=0.5))\n",
    "model2 = cp.Problem(cp.Minimize(obj_fn))\n",
    "obj_values = model2.solve()\n",
    "\n",
    "y_pred2 = X_test @ w.value + b.value\n",
    "print(mean_absolute_error(y_test, y_pred2))"
   ]
  },
  {
   "cell_type": "code",
   "execution_count": 10,
   "id": "2494c025-903e-446b-8224-f63b67eb6531",
   "metadata": {},
   "outputs": [
    {
     "name": "stdout",
     "output_type": "stream",
     "text": [
      "0.5481057947573723\n"
     ]
    }
   ],
   "source": [
    "# Model 3 using hinge loss\n",
    "w = cp.Variable(X_train.shape[1])\n",
    "b = cp.Variable()\n",
    "r = X_train @ w + b - y_train\n",
    "\n",
    "obj_fn = cp.sum(cp.maximum(0, cp.abs(r) - 1/2 ))\n",
    "model3 = cp.Problem(cp.Minimize(obj_fn))\n",
    "obj_values = model3.solve()\n",
    "\n",
    "y_pred3 = X_test @ w.value + b.value\n",
    "print(mean_absolute_error(y_test, y_pred3))"
   ]
  }
 ],
 "metadata": {
  "kernelspec": {
   "display_name": "Python 3 (ipykernel)",
   "language": "python",
   "name": "python3"
  },
  "language_info": {
   "codemirror_mode": {
    "name": "ipython",
    "version": 3
   },
   "file_extension": ".py",
   "mimetype": "text/x-python",
   "name": "python",
   "nbconvert_exporter": "python",
   "pygments_lexer": "ipython3",
   "version": "3.12.5"
  }
 },
 "nbformat": 4,
 "nbformat_minor": 5
}
