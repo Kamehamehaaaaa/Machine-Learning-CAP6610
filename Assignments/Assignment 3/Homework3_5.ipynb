{
 "cells": [
  {
   "cell_type": "markdown",
   "id": "2e9dc2bc-0c8c-4b06-9077-7ee1a37c40aa",
   "metadata": {},
   "source": [
    "### 5"
   ]
  },
  {
   "cell_type": "code",
   "execution_count": 26,
   "id": "482d18de-89d3-4bb4-bf03-ec4c4f399da7",
   "metadata": {},
   "outputs": [],
   "source": [
    "import pandas as pd\n",
    "from sklearn.preprocessing import StandardScaler\n",
    "from sklearn.linear_model import LinearRegression\n",
    "from sklearn.model_selection import train_test_split\n",
    "from sklearn.metrics import accuracy_score\n",
    "import numpy as np\n",
    "import cvxpy as cp"
   ]
  },
  {
   "cell_type": "code",
   "execution_count": 27,
   "id": "e79f23fe-545a-4211-ab96-2b35bc3f28de",
   "metadata": {},
   "outputs": [],
   "source": [
    "df = pd.read_csv(r'/Users/rohitbogulla/Desktop/Sem 2/ML/Assignments/3/ionosphere/ionosphere.data', header=None)\n",
    "X = df.iloc[:, :-1].values\n",
    "y = df.iloc[:, -1].values\n",
    "\n",
    "y = (y == 'g').astype(int) * 2 - 1"
   ]
  },
  {
   "cell_type": "code",
   "execution_count": 28,
   "id": "713789a2-b187-4cd9-b0ed-de7934a20b13",
   "metadata": {},
   "outputs": [],
   "source": [
    "# The dataset in original form has last 51 samples as positive which is giving very high \n",
    "# accuracy for predicting all 1's. Hence randomizing the data split\n",
    "\n",
    "X_train, X_test, y_train, y_test = train_test_split(X, y, test_size=0.2, random_state=2)\n",
    "\n",
    "# Standardizing features \n",
    "scaler = StandardScaler()\n",
    "X_train_std = scaler.fit_transform(X_train)\n",
    "X_test_std = scaler.transform(X_test)\n",
    "\n",
    "# adding constant term to each sample\n",
    "X_train_std = np.hstack([np.ones((X_train_std.shape[0], 1)), X_train_std])\n",
    "X_test_std = np.hstack([np.ones((X_test_std.shape[0], 1)), X_test_std])"
   ]
  },
  {
   "cell_type": "code",
   "execution_count": 29,
   "id": "ca124a4c-1bb9-4819-9e1c-cbc0eb1bd291",
   "metadata": {},
   "outputs": [
    {
     "name": "stdout",
     "output_type": "stream",
     "text": [
      "Accuracy of Classifier using least square loss = 0.7605633802816901\n"
     ]
    }
   ],
   "source": [
    "# Classifier 1 Least square loss\n",
    "classifier1 = LinearRegression()\n",
    "classifier1.fit(X_train, y_train)\n",
    "y_pred = np.sign(classifier1.predict(X_test))\n",
    "\n",
    "print(\"Accuracy of Classifier using least square loss =\", accuracy_score(y_test, y_pred))"
   ]
  },
  {
   "cell_type": "code",
   "execution_count": 30,
   "id": "baee87d8-e5a1-4f8a-aaca-c168ec601bc1",
   "metadata": {},
   "outputs": [
    {
     "name": "stdout",
     "output_type": "stream",
     "text": [
      "Accuracy of Classifier using logistic loss = 0.8309859154929577\n"
     ]
    }
   ],
   "source": [
    "# Classifier 2 Logistic loss\n",
    "w = cp.Variable(X_train.shape[1])\n",
    "b = cp.Variable()\n",
    "equation = X_train @ w + b\n",
    "\n",
    "obj_fn = cp.sum(cp.logistic(-cp.multiply( y_train, equation )))\n",
    "classifier2 = cp.Problem(cp.Minimize(obj_fn))\n",
    "# obj_value = classifier2.solve(verbose=True)\n",
    "obj_value = classifier2.solve()\n",
    "\n",
    "y_pred2 = np.sign(X_test @ w.value + b.value)\n",
    "\n",
    "print(\"Accuracy of Classifier using logistic loss =\", accuracy_score(y_test, y_pred2))"
   ]
  },
  {
   "cell_type": "code",
   "execution_count": 31,
   "id": "b2592a76-59fb-4704-a4ca-b9646a2a941d",
   "metadata": {},
   "outputs": [
    {
     "name": "stdout",
     "output_type": "stream",
     "text": [
      "Accuracy of Classifier using hinge loss = 0.8309859154929577\n"
     ]
    }
   ],
   "source": [
    "# Classifier 3 Hinge loss\n",
    "w = cp.Variable(X_train.shape[1])\n",
    "b = cp.Variable()\n",
    "equation = X_train @ w + b\n",
    "\n",
    "obj_fn = cp.sum(cp.maximum(0, 1 - cp.multiply(y_train, equation)))\n",
    "classifier3 = cp.Problem(cp.Minimize(obj_fn))\n",
    "obj_value = classifier3.solve()\n",
    "\n",
    "y_pred3 = np.sign(X_test @ w.value + b.value)\n",
    "\n",
    "print(\"Accuracy of Classifier using hinge loss =\", accuracy_score(y_test, y_pred3))"
   ]
  },
  {
   "cell_type": "code",
   "execution_count": 32,
   "id": "aafb4909-a41d-4fb5-896d-dc7dfa28a8e0",
   "metadata": {},
   "outputs": [
    {
     "data": {
      "text/plain": [
       "array([-1,  1,  1,  1, -1,  1,  1,  1, -1,  1,  1,  1, -1, -1,  1, -1, -1,\n",
       "        1, -1,  1, -1,  1,  1,  1,  1, -1, -1, -1,  1, -1, -1, -1,  1, -1,\n",
       "        1, -1,  1,  1, -1,  1, -1,  1,  1,  1, -1,  1, -1, -1, -1, -1, -1,\n",
       "        1,  1, -1, -1,  1, -1,  1,  1, -1, -1,  1, -1,  1,  1,  1, -1, -1,\n",
       "       -1, -1,  1])"
      ]
     },
     "execution_count": 32,
     "metadata": {},
     "output_type": "execute_result"
    }
   ],
   "source": [
    "y_test"
   ]
  },
  {
   "cell_type": "code",
   "execution_count": null,
   "id": "11a393b1-c851-4129-9718-b70aaa2ce3cc",
   "metadata": {},
   "outputs": [],
   "source": []
  }
 ],
 "metadata": {
  "kernelspec": {
   "display_name": "Python 3 (ipykernel)",
   "language": "python",
   "name": "python3"
  },
  "language_info": {
   "codemirror_mode": {
    "name": "ipython",
    "version": 3
   },
   "file_extension": ".py",
   "mimetype": "text/x-python",
   "name": "python",
   "nbconvert_exporter": "python",
   "pygments_lexer": "ipython3",
   "version": "3.12.5"
  }
 },
 "nbformat": 4,
 "nbformat_minor": 5
}
