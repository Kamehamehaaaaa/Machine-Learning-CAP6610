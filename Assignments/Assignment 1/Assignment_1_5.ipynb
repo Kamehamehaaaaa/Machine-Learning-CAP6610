{
 "cells": [
  {
   "cell_type": "markdown",
   "id": "f5558fef-9e6a-47b7-a007-a038753dec66",
   "metadata": {},
   "source": [
    "### 5"
   ]
  },
  {
   "cell_type": "code",
   "execution_count": 1,
   "id": "f831699f-6647-4134-b44a-8af7740412ae",
   "metadata": {},
   "outputs": [],
   "source": [
    "import pandas as pd\n",
    "from sklearn.linear_model import RidgeClassifier\n",
    "from sklearn.preprocessing import StandardScaler\n",
    "from sklearn.metrics import accuracy_score\n",
    "import numpy as np"
   ]
  },
  {
   "cell_type": "code",
   "execution_count": 14,
   "id": "1294f4dc-2501-4006-af8f-241874ee3b1e",
   "metadata": {},
   "outputs": [],
   "source": [
    "# fetch data from https://archive.ics.uci.edu/dataset/52/ionosphere\n",
    "# used the code mentioned in the website\n",
    "# we will treat good as \"1\" and bad as \"-1\" in the class labels.\n",
    "\n",
    "from ucimlrepo import fetch_ucirepo \n",
    "  \n",
    "# fetch dataset \n",
    "ionosphere = fetch_ucirepo(id=52) \n",
    "  \n",
    "# data (as pandas dataframes) \n",
    "X = ionosphere.data.features.values\n",
    "Y = ionosphere.data.targets.values\n",
    "\n",
    "y = []\n",
    "# convert your to binary\n",
    "for i in range(len(Y)):\n",
    "    y.append(1 if Y[i] == 'g' else -1)"
   ]
  },
  {
   "cell_type": "code",
   "execution_count": 15,
   "id": "078a406d-5a49-4e5c-b2e6-3d5aace2d316",
   "metadata": {},
   "outputs": [],
   "source": [
    "X_train, y_train = X[:300], y[:300]\n",
    "X_test, y_test = X[300:], y[300:]\n",
    "\n",
    "# Standardizing features \n",
    "scaler = StandardScaler()\n",
    "X_train_std = scaler.fit_transform(X_train)\n",
    "X_test_std = scaler.transform(X_test)\n",
    "\n",
    "# adding constant term to each sample\n",
    "X_train_std = np.hstack([np.ones((X_train_std.shape[0], 1)), X_train_std])\n",
    "X_test_std = np.hstack([np.ones((X_test_std.shape[0], 1)), X_test_std])\n",
    "\n",
    "lambdas = [0, 10**-1, 10**-2, 10**-3]"
   ]
  },
  {
   "cell_type": "code",
   "execution_count": 16,
   "id": "42c5909f-cb7b-42d7-913c-854b5e64e5de",
   "metadata": {},
   "outputs": [
    {
     "name": "stdout",
     "output_type": "stream",
     "text": [
      "Accuracy with lambda = 0 is 0.9803921568627451\n",
      "Accuracy with lambda = 0.1 is 1.0\n",
      "Accuracy with lambda = 0.01 is 1.0\n",
      "Accuracy with lambda = 0.001 is 1.0\n"
     ]
    }
   ],
   "source": [
    "# RidgeClassifier converts class/target variable to +1/-1 internally\n",
    "# and outputs contain original class value and not +1/-1.\n",
    "for _lambda in lambdas:\n",
    "    model = RidgeClassifier(alpha=_lambda)\n",
    "    model.fit(X_train_std, y_train)\n",
    "    y_pred = model.predict(X_test_std)\n",
    "    print(\"Accuracy with lambda =\", _lambda, \"is\" , accuracy_score(y_pred, y_test))"
   ]
  },
  {
   "cell_type": "code",
   "execution_count": 17,
   "id": "162897ff-ba09-4829-97a6-d7c3c2de1a1f",
   "metadata": {},
   "outputs": [
    {
     "data": {
      "text/plain": [
       "array([[ 0.        ,  0.2319215 ,  0.        ,  0.18686956,  0.10769536,\n",
       "         0.17877135,  0.09732167,  0.15415996,  0.19582622,  0.17179077,\n",
       "         0.05284186, -0.05137689, -0.02870209, -0.04701518,  0.01539959,\n",
       "         0.04125438, -0.01826716,  0.05579179,  0.05036423, -0.13846341,\n",
       "         0.07718832, -0.02540749, -0.23438013,  0.18273207,  0.05848456,\n",
       "         0.08582776,  0.11103445, -0.17830319, -0.08222595,  0.05609893,\n",
       "         0.0708795 ,  0.13426188,  0.053514  , -0.09828889, -0.17625284]])"
      ]
     },
     "execution_count": 17,
     "metadata": {},
     "output_type": "execute_result"
    }
   ],
   "source": [
    "model.coef_"
   ]
  }
 ],
 "metadata": {
  "kernelspec": {
   "display_name": "Python 3 (ipykernel)",
   "language": "python",
   "name": "python3"
  },
  "language_info": {
   "codemirror_mode": {
    "name": "ipython",
    "version": 3
   },
   "file_extension": ".py",
   "mimetype": "text/x-python",
   "name": "python",
   "nbconvert_exporter": "python",
   "pygments_lexer": "ipython3",
   "version": "3.12.5"
  }
 },
 "nbformat": 4,
 "nbformat_minor": 5
}
