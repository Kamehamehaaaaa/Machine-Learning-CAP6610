{
 "cells": [
  {
   "cell_type": "markdown",
   "id": "1f3ef04c-ba12-4fbc-934b-b332db702376",
   "metadata": {},
   "source": [
    "### 3"
   ]
  },
  {
   "cell_type": "code",
   "execution_count": 10,
   "id": "3c1afda9-46f0-438c-8117-a89695566a06",
   "metadata": {},
   "outputs": [],
   "source": [
    "phi = randn(40,10);\n",
    "psi = randn(40);"
   ]
  },
  {
   "cell_type": "code",
   "execution_count": 11,
   "id": "074bfcde-15ba-4c61-836d-3ffe1ef9ad85",
   "metadata": {},
   "outputs": [],
   "source": [
    "theta_star = phi\\psi;"
   ]
  },
  {
   "cell_type": "code",
   "execution_count": 12,
   "id": "fa5baee3-8eb8-407c-9e57-6d24d8b2c7e9",
   "metadata": {},
   "outputs": [],
   "source": [
    "using LinearAlgebra;\n",
    "loss = norm(phi*theta_star - psi)^2;"
   ]
  },
  {
   "cell_type": "code",
   "execution_count": 13,
   "id": "1c6987cb-b715-48b3-80bb-3ef64e398cdf",
   "metadata": {},
   "outputs": [
    {
     "data": {
      "text/plain": [
       "10-element Vector{Float64}:\n",
       " 0.09445657568075688\n",
       " 0.09505880102567173\n",
       " 0.339523301054718\n",
       " 0.08158984213513429\n",
       " 0.07741292050163236\n",
       " 0.03167319737476269\n",
       " 0.2908630264721047\n",
       " 0.010331296031684714\n",
       " 0.04356279550166443\n",
       " 0.34397346549075386"
      ]
     },
     "execution_count": 13,
     "metadata": {},
     "output_type": "execute_result"
    }
   ],
   "source": [
    "theta_star"
   ]
  },
  {
   "cell_type": "code",
   "execution_count": 19,
   "id": "7d903a84-7f7c-44a0-8433-0a50ddec6804",
   "metadata": {},
   "outputs": [
    {
     "name": "stdout",
     "output_type": "stream",
     "text": [
      "Loss while estimating theta(theta_star): 21.976225886019318"
     ]
    }
   ],
   "source": [
    "print(\"Loss while estimating theta(theta_star): \", loss)"
   ]
  },
  {
   "cell_type": "code",
   "execution_count": 35,
   "id": "3ad90662-699f-43d8-94b0-3c042058d712",
   "metadata": {},
   "outputs": [
    {
     "data": {
      "text/plain": [
       "verifyInequality (generic function with 1 method)"
      ]
     },
     "execution_count": 35,
     "metadata": {},
     "output_type": "execute_result"
    }
   ],
   "source": [
    "# verifying inquality || phi * (theta_star + sigma) - psi || ^2 > || phi *theta_star - psi || ^2\n",
    "function verifyInequality()\n",
    "    sigma = randn(10);\n",
    "    print(\"Testing inequlity with sigma as : \\n\", sigma, \"\\n\")\n",
    "    lhs = norm(phi*(theta_star + sigma) - psi) ^ 2;\n",
    "    rhs = loss;\n",
    "    print(\"Does the inequality hold thus proving that no approximation of theta other than theta_star has lower loss?\")\n",
    "    lhs > rhs\n",
    "end"
   ]
  },
  {
   "cell_type": "code",
   "execution_count": 36,
   "id": "ebf6df53-2d60-45c5-b2ea-b3b5c8a734e6",
   "metadata": {},
   "outputs": [
    {
     "name": "stdout",
     "output_type": "stream",
     "text": [
      "Verifying inequality || phi * (theta_star + sigma) - psi || ^2 > || phi *theta_star - psi || ^2 "
     ]
    }
   ],
   "source": [
    "print(\"Verifying inequality || phi * (theta_star + sigma) - psi || ^2 > || phi *theta_star - psi || ^2 \")"
   ]
  },
  {
   "cell_type": "code",
   "execution_count": 37,
   "id": "83069e4f-8216-43ed-8cc7-4eaed2bf982d",
   "metadata": {},
   "outputs": [
    {
     "name": "stdout",
     "output_type": "stream",
     "text": [
      "Testing inequlity with sigma as : \n",
      "[0.20546735761226462, 0.04258280531378687, 0.7272327498768144, -0.35086792902882535, -1.0819662582607297, 0.975170287364697, -1.5224711318291555, 1.1978334861771822, 0.009280002293177056, 0.0984519130758678]\n",
      "Does the inequality hold thus proving that no approximation of theta other than theta_star has lower loss?"
     ]
    },
    {
     "data": {
      "text/plain": [
       "true"
      ]
     },
     "execution_count": 37,
     "metadata": {},
     "output_type": "execute_result"
    }
   ],
   "source": [
    "verifyInequality()"
   ]
  },
  {
   "cell_type": "code",
   "execution_count": 38,
   "id": "31194db4-6a57-495c-8534-feb82b46a050",
   "metadata": {},
   "outputs": [
    {
     "name": "stdout",
     "output_type": "stream",
     "text": [
      "Testing inequlity with sigma as : \n",
      "[-0.1139782803337731, 0.6158918590428364, 2.201795467165284, 0.333883111171912, 0.11537499801982071, -1.5550850204473206, -0.6264512177973692, -0.9911144148957922, 0.09955737889305871, 1.076660670669673]\n",
      "Does the inequality hold thus proving that no approximation of theta other than theta_star has lower loss?"
     ]
    },
    {
     "data": {
      "text/plain": [
       "true"
      ]
     },
     "execution_count": 38,
     "metadata": {},
     "output_type": "execute_result"
    }
   ],
   "source": [
    "verifyInequality()"
   ]
  },
  {
   "cell_type": "code",
   "execution_count": 39,
   "id": "0e6a8b5a-3207-4f1d-8424-795dac1ef623",
   "metadata": {},
   "outputs": [
    {
     "name": "stdout",
     "output_type": "stream",
     "text": [
      "Testing inequlity with sigma as : \n",
      "[-0.3421842416523434, 0.9326139271256874, -0.36010491178037296, 2.0162017160321426, -0.6868668189542076, -1.3867325178905994, -1.4448523071897577, -2.2003030283697367, -0.040000106074750186, -1.9003356862996872]\n",
      "Does the inequality hold thus proving that no approximation of theta other than theta_star has lower loss?"
     ]
    },
    {
     "data": {
      "text/plain": [
       "true"
      ]
     },
     "execution_count": 39,
     "metadata": {},
     "output_type": "execute_result"
    }
   ],
   "source": [
    "verifyInequality()"
   ]
  },
  {
   "cell_type": "code",
   "execution_count": 40,
   "id": "7be1c5d5-fa50-4742-99dc-a7a255c2525f",
   "metadata": {},
   "outputs": [
    {
     "name": "stdout",
     "output_type": "stream",
     "text": [
      "Testing inequlity with sigma as : \n",
      "[0.0539281707246908, -0.23677946714303807, 1.1466172184860852, 0.5623905191431423, 0.3269112146444907, 0.37238427685715597, 0.22890575040606476, 1.9757464403480802, 1.5042207219925152, 0.8614238784722701]\n",
      "Does the inequality hold thus proving that no approximation of theta other than theta_star has lower loss?"
     ]
    },
    {
     "data": {
      "text/plain": [
       "true"
      ]
     },
     "execution_count": 40,
     "metadata": {},
     "output_type": "execute_result"
    }
   ],
   "source": [
    "verifyInequality()"
   ]
  },
  {
   "cell_type": "code",
   "execution_count": 41,
   "id": "1c354d5a-e19a-4a60-b80f-6f7e75822676",
   "metadata": {},
   "outputs": [
    {
     "name": "stdout",
     "output_type": "stream",
     "text": [
      "Testing inequlity with sigma as : \n",
      "[-1.2271962315890752, 1.0186090920037258, 0.845130222602616, 0.21576243970813883, -0.10079657499241743, -0.4476669158500418, -0.6538591194735733, -0.30920125260659764, -1.885126228257937, 0.2293229222274903]\n",
      "Does the inequality hold thus proving that no approximation of theta other than theta_star has lower loss?"
     ]
    },
    {
     "data": {
      "text/plain": [
       "true"
      ]
     },
     "execution_count": 41,
     "metadata": {},
     "output_type": "execute_result"
    }
   ],
   "source": [
    "verifyInequality()"
   ]
  },
  {
   "cell_type": "code",
   "execution_count": null,
   "id": "41f37b3f-cd18-4f38-be3e-be79023f6476",
   "metadata": {},
   "outputs": [],
   "source": []
  }
 ],
 "metadata": {
  "kernelspec": {
   "display_name": "Julia 1.10.5",
   "language": "julia",
   "name": "julia-1.10"
  },
  "language_info": {
   "file_extension": ".jl",
   "mimetype": "application/julia",
   "name": "julia",
   "version": "1.10.5"
  }
 },
 "nbformat": 4,
 "nbformat_minor": 5
}
