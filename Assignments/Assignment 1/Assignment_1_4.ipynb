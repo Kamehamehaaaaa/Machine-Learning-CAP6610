{
 "cells": [
  {
   "cell_type": "markdown",
   "id": "b9f5cc90-98be-453f-a6d2-9589e3eedb05",
   "metadata": {},
   "source": [
    "### 4"
   ]
  },
  {
   "cell_type": "code",
   "execution_count": 1,
   "id": "5b4e3777-b74b-4c26-837a-2077aee36820",
   "metadata": {},
   "outputs": [],
   "source": [
    "import pandas as pd\n",
    "from sklearn.linear_model import Ridge\n",
    "from sklearn.preprocessing import StandardScaler\n",
    "import numpy as np"
   ]
  },
  {
   "cell_type": "code",
   "execution_count": 7,
   "id": "dd62c1aa-abee-4210-8d39-e684daaa6fd2",
   "metadata": {},
   "outputs": [],
   "source": [
    "df = pd.read_csv(\"wine+quality/winequality-red.csv\", sep=';')\n",
    "X = df.iloc[:, :-1].values\n",
    "y = df.iloc[:, -1].values\n",
    "X_train, y_train = X[:1400], y[:1400]\n",
    "X_test, y_test = X[1400:], y[1400:]\n",
    "\n",
    "# Standardize the features (x-mean(x))/std(x)\n",
    "scaler = StandardScaler()\n",
    "# Use X_train to get the mean and standard deviation\n",
    "X_train_std = scaler.fit_transform(X_train)\n",
    "# Use the mean and standard deviation from X_train to standardize X_test\n",
    "# as having X_train and X_test with same standardization terms makes sense.\n",
    "X_test_std = scaler.transform(X_test)\n",
    "\n",
    "def addBiasToSamples(data):\n",
    "    return np.hstack([data, np.ones((data.shape[0], 1))])\n",
    "    \n",
    "X_train_std = addBiasToSamples(X_train_std)\n",
    "X_test_std = addBiasToSamples(X_test_std)\n",
    "\n",
    "lambdas = [0, 10**-1, 10**-2, 10**-3]"
   ]
  },
  {
   "cell_type": "code",
   "execution_count": 3,
   "id": "eda0b758-97d5-4746-8a74-bfa2c3395fe4",
   "metadata": {},
   "outputs": [],
   "source": [
    "def trainModel(regularization_coefficient = 0):\n",
    "    model = Ridge(alpha = regularization_coefficient, fit_intercept=False)\n",
    "    model.fit(X_train_std, y_train)\n",
    "    return model"
   ]
  },
  {
   "cell_type": "code",
   "execution_count": 4,
   "id": "a208b77f-c616-4be7-b91d-446c999d1974",
   "metadata": {},
   "outputs": [
    {
     "name": "stdout",
     "output_type": "stream",
     "text": [
      "MSE for predictions using lambda = 0 is 0.4868691102549516\n",
      "MSE for predictions using lambda = 0.1 is 0.48679037671598435\n",
      "MSE for predictions using lambda = 0.01 is 0.48686122087563066\n",
      "MSE for predictions using lambda = 0.001 is 0.4868683211567339\n"
     ]
    }
   ],
   "source": [
    "for i in lambdas:\n",
    "    model = trainModel(regularization_coefficient = i)\n",
    "    y_pred = model.predict(X_test_std)\n",
    "    mse = np.square(np.subtract(y_test, y_pred)).mean()\n",
    "    print(\"MSE for predictions using lambda =\", i, \"is\", mse)"
   ]
  },
  {
   "cell_type": "code",
   "execution_count": 5,
   "id": "9161a43a-298e-4c8b-b2dc-1a22eeb2cdee",
   "metadata": {},
   "outputs": [
    {
     "name": "stdout",
     "output_type": "stream",
     "text": [
      "[4.96968956 4.96968956 6.48022124 6.24348    5.63512459 6.47637574\n",
      " 6.46109026 6.02312003 6.89340766 6.02312003 5.46661258 5.78955934\n",
      " 6.46109026 5.65754314 5.81636801 5.49213338 5.81636801 6.4858995\n",
      " 5.45928528 4.99971898 5.45928528 5.42065771 6.13049355 5.73302682\n",
      " 5.80205261 5.80205261 6.46573438 5.98007449 5.73193801 6.55401253\n",
      " 5.75838624 5.43865946 6.38829602 5.80489126 5.12262846 5.12262846\n",
      " 5.03487309 5.29849859 5.52115807 5.64123401 6.24890783 4.88163005\n",
      " 5.49439433 5.9155035  5.6504892  4.89088525 5.49439433 5.39623184\n",
      " 5.4979915  6.27302043 6.24890783 6.13299239 6.13077909 5.09326975\n",
      " 5.97816429 5.46479226 5.57130752 5.09326975 5.94152713 6.67692155\n",
      " 5.78388268 5.25063352 5.52565753 5.58974503 5.44456581 5.44456581\n",
      " 5.60922918 5.20959451 5.60922918 4.92164916 5.3607052  6.07610532\n",
      " 6.12068586 5.65823825 5.11819883 6.66163544 5.11819883 6.67089063\n",
      " 5.14817026 5.92353078 5.41030272 5.92353078 5.43703254 6.03564813\n",
      " 5.4251022  5.26327806 5.45832632 5.73961589 5.86960525 5.91860042\n",
      " 6.56346192 5.86960525 5.9184233  5.05574706 5.87604842 6.02692571\n",
      " 5.05574706 5.81454868 5.35158744 5.81454868 5.24524079 4.94936123\n",
      " 5.27307185 5.92059197 5.96361459 5.27970716 5.51249091 5.96361459\n",
      " 6.01107977 6.36950504 5.74679358 5.38331099 5.4211661  5.56146144\n",
      " 4.89482979 4.89945739 6.13267612 5.85236808 5.66991921 5.31143101\n",
      " 5.85236808 5.14986791 6.13267612 5.63604178 5.7493092  5.57614418\n",
      " 5.56575644 5.88257051 5.73469342 5.45081879 6.11977941 5.35983716\n",
      " 5.70049255 5.26546232 6.01578337 5.40934096 5.5923982  5.56253454\n",
      " 5.9415341  5.72713178 5.94434946 6.18087881 5.44623096 5.83650948\n",
      " 6.32927604 5.50006971 5.60417372 5.99304497 5.76466264 6.27083328\n",
      " 5.14403345 5.148213   5.6844273  5.14590846 5.46554709 5.74804687\n",
      " 5.0883812  5.46554709 4.85902189 5.10385055 5.10385055 5.10385055\n",
      " 5.39039244 5.39039244 5.39039244 5.86671578 6.29045623 5.39039244\n",
      " 5.26232752 5.94473069 6.35346603 6.10780072 4.95790905 6.09495147\n",
      " 5.5555253  6.15586868 6.1272792  5.82643018 5.74015994 5.89219546\n",
      " 6.26680807 5.89219546 5.78357829 5.37212228 6.4130757  6.28950899\n",
      " 6.35690954 5.72260439 6.19578207 4.94999131 6.20273905 5.6177888\n",
      " 5.95113282 5.50020717 5.54474851 5.96881715 5.95113282 5.49756939\n",
      " 6.02443865]\n"
     ]
    }
   ],
   "source": [
    "print(y_pred)"
   ]
  },
  {
   "cell_type": "code",
   "execution_count": 6,
   "id": "15f80ee9-6800-438a-8fd3-c164808d2d9f",
   "metadata": {},
   "outputs": [
    {
     "data": {
      "text/plain": [
       "array([5, 5, 6, 8, 6, 7, 6, 6, 7, 6, 6, 6, 6, 5, 5, 5, 5, 7, 5, 5, 5, 5,\n",
       "       6, 4, 6, 6, 6, 5, 5, 5, 5, 6, 6, 7, 6, 6, 5, 5, 5, 6, 7, 6, 5, 5,\n",
       "       6, 6, 5, 5, 5, 8, 7, 7, 7, 5, 6, 6, 6, 5, 5, 7, 6, 4, 6, 6, 5, 5,\n",
       "       7, 4, 7, 3, 5, 5, 6, 5, 5, 7, 5, 7, 3, 5, 4, 5, 4, 5, 4, 5, 5, 5,\n",
       "       5, 6, 6, 5, 5, 5, 7, 6, 5, 6, 6, 6, 5, 5, 5, 6, 6, 3, 6, 6, 6, 5,\n",
       "       6, 5, 6, 6, 6, 6, 5, 6, 5, 5, 6, 4, 5, 5, 6, 5, 6, 6, 6, 6, 6, 5,\n",
       "       6, 5, 7, 6, 6, 6, 5, 5, 6, 7, 6, 6, 7, 6, 5, 5, 5, 8, 5, 5, 6, 5,\n",
       "       6, 7, 5, 6, 5, 5, 5, 5, 5, 5, 5, 6, 6, 5, 5, 6, 6, 6, 5, 6, 6, 6,\n",
       "       6, 6, 6, 5, 6, 5, 5, 5, 7, 6, 6, 6, 6, 5, 6, 6, 6, 6, 5, 6, 6, 5,\n",
       "       6])"
      ]
     },
     "execution_count": 6,
     "metadata": {},
     "output_type": "execute_result"
    }
   ],
   "source": [
    "y_test"
   ]
  },
  {
   "cell_type": "code",
   "execution_count": null,
   "id": "e9dc5a23-6137-4385-8e97-6aa76daa63fc",
   "metadata": {},
   "outputs": [],
   "source": []
  }
 ],
 "metadata": {
  "kernelspec": {
   "display_name": "Python 3 (ipykernel)",
   "language": "python",
   "name": "python3"
  },
  "language_info": {
   "codemirror_mode": {
    "name": "ipython",
    "version": 3
   },
   "file_extension": ".py",
   "mimetype": "text/x-python",
   "name": "python",
   "nbconvert_exporter": "python",
   "pygments_lexer": "ipython3",
   "version": "3.12.5"
  }
 },
 "nbformat": 4,
 "nbformat_minor": 5
}
